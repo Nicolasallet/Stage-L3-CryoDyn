{
 "cells": [
  {
   "cell_type": "markdown",
   "id": "precious-elimination",
   "metadata": {},
   "source": [
    "# Build input file for Machine Learning"
   ]
  },
  {
   "cell_type": "code",
   "execution_count": 1,
   "id": "worst-exchange",
   "metadata": {},
   "outputs": [],
   "source": [
    "import pyCraFT.runcraft as pyCr\n",
    "import AITAToolbox.loadData_aita as lda\n",
    "from skimage import io\n",
    "import os\n",
    "import numpy as np\n",
    "import scipy as sc\n",
    "import csv"
   ]
  },
  {
   "cell_type": "markdown",
   "id": "white-pursuit",
   "metadata": {},
   "source": [
    "## Path to the CraFT simulation"
   ]
  },
  {
   "cell_type": "code",
   "execution_count": 2,
   "id": "grand-norway",
   "metadata": {},
   "outputs": [],
   "source": [
    "adr_data='/home/alletn/Documents/Data/CI09/CraFT/'"
   ]
  },
  {
   "cell_type": "code",
   "execution_count": 3,
   "id": "medical-rebate",
   "metadata": {},
   "outputs": [],
   "source": [
    "t_simu='01.49600000e+05'"
   ]
  },
  {
   "cell_type": "markdown",
   "id": "color-montgomery",
   "metadata": {},
   "source": [
    "## Load the output from CraFT"
   ]
  },
  {
   "cell_type": "code",
   "execution_count": 4,
   "id": "fifteen-permit",
   "metadata": {},
   "outputs": [],
   "source": [
    "data=pyCr.runcraft(adr_data,t_simu)"
   ]
  },
  {
   "cell_type": "markdown",
   "id": "engaging-magnitude",
   "metadata": {},
   "source": [
    "## Load the RX image for classification\n",
    "There is process of streching and matching that need to be done before.\n",
    "\n",
    "**Can this be automatized ?** "
   ]
  },
  {
   "cell_type": "code",
   "execution_count": 5,
   "id": "valued-spirituality",
   "metadata": {},
   "outputs": [],
   "source": [
    "adr_microDEF_fit='/home/alletn/Documents/Data/CI09/IA/CI09_AD2BD.bmp'\n",
    "micro_bmp = io.imread(adr_microDEF_fit)\n",
    "mm=np.max(micro_bmp)\n",
    "micro_field=micro_bmp[:,:,0]/mm\n",
    "\n",
    "microD2I=lda.aita.im2d.image2d(micro_field,0.02)"
   ]
  },
  {
   "cell_type": "markdown",
   "id": "labeled-document",
   "metadata": {},
   "source": [
    "## Export the data\n",
    "### Choose the variable to export"
   ]
  },
  {
   "cell_type": "code",
   "execution_count": 6,
   "id": "decreased-representation",
   "metadata": {},
   "outputs": [],
   "source": [
    "log=[]"
   ]
  },
  {
   "cell_type": "code",
   "execution_count": 7,
   "id": "bigger-pleasure",
   "metadata": {},
   "outputs": [],
   "source": [
    "listvar=['Strain_eqVonMises','Stress_eqVonMises','systemGamma','dist2TJ','dist2GB','misAngle','diffStress','diffStrain','SchmidFactor','diff_schmid']"
   ]
  },
  {
   "cell_type": "code",
   "execution_count": 8,
   "id": "final-football",
   "metadata": {
    "tags": []
   },
   "outputs": [],
   "source": [
    "# output file\n",
    "adr_output='/home/alletn/Documents/Data/CI09/IA/CI09_IAdata'"
   ]
  },
  {
   "cell_type": "code",
   "execution_count": null,
   "id": "permanent-hampton",
   "metadata": {},
   "outputs": [
    {
     "name": "stdout",
     "output_type": "stream",
     "text": [
      "Compute dist to TJ and GB\n"
     ]
    },
    {
     "data": {
      "application/vnd.jupyter.widget-view+json": {
       "model_id": "f332ffa8caa548f39dc8a1a3834358ec",
       "version_major": 2,
       "version_minor": 0
      },
      "text/plain": [
       "  0%|          | 0/517 [00:00<?, ?it/s]"
      ]
     },
     "metadata": {},
     "output_type": "display_data"
    },
    {
     "name": "stdout",
     "output_type": "stream",
     "text": [
      "Compute misAngle\n"
     ]
    },
    {
     "data": {
      "application/vnd.jupyter.widget-view+json": {
       "model_id": "e3f38637622e4e7db3002c82ccacc446",
       "version_major": 2,
       "version_minor": 0
      },
      "text/plain": [
       "  0%|          | 0/517 [00:00<?, ?it/s]"
      ]
     },
     "metadata": {},
     "output_type": "display_data"
    }
   ],
   "source": [
    "IAdata=data.outputIA(microD2I,adr_output,listvar=listvar,log=log)"
   ]
  }
 ],
 "metadata": {
  "kernelspec": {
   "display_name": "aita",
   "language": "python",
   "name": "aita"
  },
  "language_info": {
   "codemirror_mode": {
    "name": "ipython",
    "version": 3
   },
   "file_extension": ".py",
   "mimetype": "text/x-python",
   "name": "python",
   "nbconvert_exporter": "python",
   "pygments_lexer": "ipython3",
   "version": "3.8.8"
  }
 },
 "nbformat": 4,
 "nbformat_minor": 5
}
