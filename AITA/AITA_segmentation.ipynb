{
 "cells": [
  {
   "cell_type": "markdown",
   "id": "unable-debate",
   "metadata": {},
   "source": [
    "# AITA segmentation\n",
    "This script is to performed initial segmentation before correted it by hand.\n",
    "\n",
    "## Load the toolbox needed :\n",
    "\n",
    "Documentation about AITAToolbox can be find here: https://thomaschauve.github.io/aita/build/html/index.html"
   ]
  },
  {
   "cell_type": "code",
   "execution_count": 3,
   "id": "ultimate-genetics",
   "metadata": {},
   "outputs": [],
   "source": [
    "import AITAToolbox.loadData_aita as lda\n",
    "import matplotlib.pyplot as plt\n",
    "# ipywidget library should be used to performed interactive segmentation\n",
    "%matplotlib widget "
   ]
  },
  {
   "cell_type": "markdown",
   "id": "resistant-recognition",
   "metadata": {},
   "source": [
    "## Path :\n",
    "Give the path to the \".dat\" file"
   ]
  },
  {
   "cell_type": "code",
   "execution_count": 4,
   "id": "a4a55be9-5f97-40b7-a20d-c4a4d051a147",
   "metadata": {},
   "outputs": [],
   "source": [
    "adr_aita='../Data/CI04/AITA/CI04_AD/CI04_AD_aita.dat'"
   ]
  },
  {
   "cell_type": "markdown",
   "id": "convinced-incidence",
   "metadata": {},
   "source": [
    "## Load the data"
   ]
  },
  {
   "cell_type": "code",
   "execution_count": 5,
   "id": "working-blowing",
   "metadata": {},
   "outputs": [
    {
     "name": "stdout",
     "output_type": "stream",
     "text": [
      "Sucessfull aita build !\n"
     ]
    }
   ],
   "source": [
    "data=lda.aita5col(adr_aita)"
   ]
  },
  {
   "cell_type": "code",
   "execution_count": 6,
   "id": "b5275ad9-cc3d-4507-8dba-d75fc47bb632",
   "metadata": {},
   "outputs": [
    {
     "data": {
      "text/plain": [
       "0.02"
      ]
     },
     "execution_count": 6,
     "metadata": {},
     "output_type": "execute_result"
    }
   ],
   "source": [
    "data.phi1.res"
   ]
  },
  {
   "cell_type": "code",
   "execution_count": 7,
   "id": "c5e7b837-63f8-4f55-ab36-bbce2f042707",
   "metadata": {},
   "outputs": [],
   "source": [
    "data.imresize(0.020)"
   ]
  },
  {
   "cell_type": "markdown",
   "id": "instant-avatar",
   "metadata": {},
   "source": [
    "## Segmentation\n",
    "Lunch the command interactive segmentation with the option that you want. \n",
    "\n",
    "Therefore you can play with the various threshold before exporting the microstructure."
   ]
  },
  {
   "cell_type": "code",
   "execution_count": 9,
   "id": "hourly-crossing",
   "metadata": {},
   "outputs": [
    {
     "data": {
      "application/vnd.jupyter.widget-view+json": {
       "model_id": "c6f9b73a18a84b2481204e88d7a4792b",
       "version_major": 2,
       "version_minor": 0
      },
      "text/plain": [
       "Canvas(toolbar=Toolbar(toolitems=[('Home', 'Reset original view', 'home', 'home'), ('Back', 'Back to previous …"
      ]
     },
     "metadata": {},
     "output_type": "display_data"
    },
    {
     "data": {
      "application/vnd.jupyter.widget-view+json": {
       "model_id": "3694e807d9e54700a0055a820a28a4bb",
       "version_major": 2,
       "version_minor": 0
      },
      "text/plain": [
       "  0%|          | 0/4500 [00:00<?, ?it/s]"
      ]
     },
     "metadata": {},
     "output_type": "display_data"
    },
    {
     "data": {
      "application/vnd.jupyter.widget-view+json": {
       "model_id": "cbd90716416048309dac47c923bfd234",
       "version_major": 2,
       "version_minor": 0
      },
      "text/plain": [
       "  0%|          | 0/4500 [00:00<?, ?it/s]"
      ]
     },
     "metadata": {},
     "output_type": "display_data"
    },
    {
     "data": {
      "application/vnd.jupyter.widget-view+json": {
       "model_id": "4ce35e3b73d94039b1e610eed4c9e3e7",
       "version_major": 2,
       "version_minor": 0
      },
      "text/plain": [
       "VBox(children=(HBox(children=(FloatSlider(value=1.5, continuous_update=False, description='Scharr filter:', ma…"
      ]
     },
     "metadata": {},
     "output_type": "display_data"
    },
    {
     "data": {
      "application/vnd.jupyter.widget-view+json": {
       "model_id": "a297a50fdc5f45139d2830ac1f82f8a9",
       "version_major": 2,
       "version_minor": 0
      },
      "text/plain": [
       "Output()"
      ]
     },
     "metadata": {},
     "output_type": "display_data"
    },
    {
     "data": {
      "text/plain": [
       "<function AITAToolbox.aita.aita.interactive_segmentation.<locals>.export_micro(_)>"
      ]
     },
     "execution_count": 9,
     "metadata": {},
     "output_type": "execute_result"
    }
   ],
   "source": [
    "plt.figure(figsize=(10,10))\n",
    "data.interactive_segmentation()"
   ]
  },
  {
   "cell_type": "markdown",
   "id": "canadian-election",
   "metadata": {},
   "source": [
    "## Save the microstrucuture\n",
    "Save the micro to further manual change."
   ]
  },
  {
   "cell_type": "code",
   "execution_count": 11,
   "id": "informational-spain",
   "metadata": {},
   "outputs": [],
   "source": [
    "data.micro.save_bmp('micro_Auto_Seg')"
   ]
  },
  {
   "cell_type": "code",
   "execution_count": null,
   "id": "2b442646-2bf4-4e07-a7e7-a9e60f5ea6ce",
   "metadata": {},
   "outputs": [],
   "source": []
  }
 ],
 "metadata": {
  "kernelspec": {
   "display_name": "aita",
   "language": "python",
   "name": "aita"
  },
  "language_info": {
   "codemirror_mode": {
    "name": "ipython",
    "version": 3
   },
   "file_extension": ".py",
   "mimetype": "text/x-python",
   "name": "python",
   "nbconvert_exporter": "python",
   "pygments_lexer": "ipython3",
   "version": "3.8.8"
  }
 },
 "nbformat": 4,
 "nbformat_minor": 5
}
